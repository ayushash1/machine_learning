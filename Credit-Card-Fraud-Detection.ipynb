{
 "cells": [
  {
   "cell_type": "markdown",
   "id": "a57becaa",
   "metadata": {
    "papermill": {
     "duration": 0.006877,
     "end_time": "2023-12-07T17:24:24.034017",
     "exception": false,
     "start_time": "2023-12-07T17:24:24.027140",
     "status": "completed"
    },
    "tags": []
   },
   "source": [
    "# Credit Card Fraud Detection"
   ]
  },
  {
   "cell_type": "markdown",
   "id": "06bc7269",
   "metadata": {
    "papermill": {
     "duration": 0.004768,
     "end_time": "2023-12-07T17:24:24.043837",
     "exception": false,
     "start_time": "2023-12-07T17:24:24.039069",
     "status": "completed"
    },
    "tags": []
   },
   "source": [
    "## Problem statement\n",
    "Credit card fraud occurs when unauthorized individuals exploit someone's personal information to carry out deceitful transactions using their credit card.\n",
    "This results in the innocent party being held responsible for purchases they never made. The victim often finds themselves burdened with unresolved debts, and their ability to secure new credit may be hampered by a tarnished credit score until the issue is resolved. Swift identification of fraudulent activities by credit card companies becomes pivotal in mitigating the repercussions for the affected individual."
   ]
  },
  {
   "cell_type": "markdown",
   "id": "ed70b32f",
   "metadata": {
    "papermill": {
     "duration": 0.004666,
     "end_time": "2023-12-07T17:24:24.053411",
     "exception": false,
     "start_time": "2023-12-07T17:24:24.048745",
     "status": "completed"
    },
    "tags": []
   },
   "source": [
    "![](https://www.researchgate.net/profile/Balaji-Gn/publication/325658124/figure/fig1/AS:635524247207936@1528532196111/The-Credit-Card-Fraud-Detection-Process.png)\n"
   ]
  },
  {
   "cell_type": "markdown",
   "id": "83ace284",
   "metadata": {
    "papermill": {
     "duration": 0.005436,
     "end_time": "2023-12-07T17:24:24.063757",
     "exception": false,
     "start_time": "2023-12-07T17:24:24.058321",
     "status": "completed"
    },
    "tags": []
   },
   "source": [
    "## About Dataset\n",
    "It is important that credit card companies are able to recognize fraudulent credit card transactions so that customers are not charged for items that they did not purchase."
   ]
  },
  {
   "cell_type": "markdown",
   "id": "28c50374",
   "metadata": {
    "papermill": {
     "duration": 0.004725,
     "end_time": "2023-12-07T17:24:24.073450",
     "exception": false,
     "start_time": "2023-12-07T17:24:24.068725",
     "status": "completed"
    },
    "tags": []
   },
   "source": [
    "Content\n",
    "The dataset contains transactions made by credit cards in September 2013 by European cardholders.\n",
    "This dataset presents transactions that occurred in two days, where we have 492 frauds out of 284,807 transactions. The dataset is highly unbalanced, the positive class (frauds) account for 0.172% of all transactions.\n",
    "\n",
    "It contains only numerical input variables which are the result of a PCA transformation. Unfortunately, due to confidentiality issues, we cannot provide the original features and more background information about the data. Features V1, V2, … V28 are the principal components obtained with PCA, the only features which have not been transformed with PCA are 'Time' and 'Amount'. Feature 'Time' contains the seconds elapsed between each transaction and the first transaction in the dataset. The feature 'Amount' is the transaction Amount, this feature can be used for example-dependant cost-sensitive learning. Feature 'Class' is the response variable and it takes value 1 in case of fraud and 0 otherwise.\n",
    "\n",
    "Given the class imbalance ratio, we recommend measuring the accuracy using the Area Under the Precision-Recall Curve (AUPRC). Confusion matrix accuracy is not meaningful for unbalanced classification."
   ]
  },
  {
   "cell_type": "markdown",
   "id": "2b5735ea",
   "metadata": {
    "papermill": {
     "duration": 0.004574,
     "end_time": "2023-12-07T17:24:24.082811",
     "exception": false,
     "start_time": "2023-12-07T17:24:24.078237",
     "status": "completed"
    },
    "tags": []
   },
   "source": [
    "The dataset has been collected and analysed during a research collaboration of Worldline and the Machine Learning Group (http://mlg.ulb.ac.be) of ULB (Université Libre de Bruxelles) on big data mining and fraud detection.\n"
   ]
  },
  {
   "cell_type": "markdown",
   "id": "883c18e3",
   "metadata": {
    "papermill": {
     "duration": 0.004615,
     "end_time": "2023-12-07T17:24:24.092286",
     "exception": false,
     "start_time": "2023-12-07T17:24:24.087671",
     "status": "completed"
    },
    "tags": []
   },
   "source": [
    "More about Dataset - https://www.kaggle.com/datasets/mlg-ulb/creditcardfraud"
   ]
  },
  {
   "cell_type": "markdown",
   "id": "6cf1eea1",
   "metadata": {
    "papermill": {
     "duration": 0.005632,
     "end_time": "2023-12-07T17:24:24.102722",
     "exception": false,
     "start_time": "2023-12-07T17:24:24.097090",
     "status": "completed"
    },
    "tags": []
   },
   "source": [
    "### Importing Packeges"
   ]
  },
  {
   "cell_type": "code",
   "execution_count": 1,
   "id": "063bd820",
   "metadata": {
    "execution": {
     "iopub.execute_input": "2023-12-07T17:24:24.115276Z",
     "iopub.status.busy": "2023-12-07T17:24:24.114730Z",
     "iopub.status.idle": "2023-12-07T17:24:26.840084Z",
     "shell.execute_reply": "2023-12-07T17:24:26.838623Z"
    },
    "papermill": {
     "duration": 2.734654,
     "end_time": "2023-12-07T17:24:26.842694",
     "exception": false,
     "start_time": "2023-12-07T17:24:24.108040",
     "status": "completed"
    },
    "tags": []
   },
   "outputs": [],
   "source": [
    "import numpy as np\n",
    "import pandas as pd\n",
    "import matplotlib.pyplot as plt\n",
    "import seaborn as sns\n",
    "from sklearn.preprocessing import StandardScaler\n",
    "from sklearn.model_selection import train_test_split\n",
    "from sklearn.preprocessing import StandardScaler\n",
    "from imblearn.over_sampling import SMOTE"
   ]
  },
  {
   "cell_type": "markdown",
   "id": "659d970c",
   "metadata": {
    "papermill": {
     "duration": 0.004913,
     "end_time": "2023-12-07T17:24:26.853027",
     "exception": false,
     "start_time": "2023-12-07T17:24:26.848114",
     "status": "completed"
    },
    "tags": []
   },
   "source": [
    "### Importing Data"
   ]
  },
  {
   "cell_type": "code",
   "execution_count": 2,
   "id": "11322447",
   "metadata": {
    "execution": {
     "iopub.execute_input": "2023-12-07T17:24:26.864849Z",
     "iopub.status.busy": "2023-12-07T17:24:26.864355Z",
     "iopub.status.idle": "2023-12-07T17:24:30.338591Z",
     "shell.execute_reply": "2023-12-07T17:24:30.337697Z"
    },
    "papermill": {
     "duration": 3.482588,
     "end_time": "2023-12-07T17:24:30.340493",
     "exception": false,
     "start_time": "2023-12-07T17:24:26.857905",
     "status": "completed"
    },
    "tags": []
   },
   "outputs": [
    {
     "data": {
      "text/html": [
       "<div>\n",
       "<style scoped>\n",
       "    .dataframe tbody tr th:only-of-type {\n",
       "        vertical-align: middle;\n",
       "    }\n",
       "\n",
       "    .dataframe tbody tr th {\n",
       "        vertical-align: top;\n",
       "    }\n",
       "\n",
       "    .dataframe thead th {\n",
       "        text-align: right;\n",
       "    }\n",
       "</style>\n",
       "<table border=\"1\" class=\"dataframe\">\n",
       "  <thead>\n",
       "    <tr style=\"text-align: right;\">\n",
       "      <th></th>\n",
       "      <th>Time</th>\n",
       "      <th>V1</th>\n",
       "      <th>V2</th>\n",
       "      <th>V3</th>\n",
       "      <th>V4</th>\n",
       "      <th>V5</th>\n",
       "      <th>V6</th>\n",
       "      <th>V7</th>\n",
       "      <th>V8</th>\n",
       "      <th>V9</th>\n",
       "      <th>...</th>\n",
       "      <th>V21</th>\n",
       "      <th>V22</th>\n",
       "      <th>V23</th>\n",
       "      <th>V24</th>\n",
       "      <th>V25</th>\n",
       "      <th>V26</th>\n",
       "      <th>V27</th>\n",
       "      <th>V28</th>\n",
       "      <th>Amount</th>\n",
       "      <th>Class</th>\n",
       "    </tr>\n",
       "  </thead>\n",
       "  <tbody>\n",
       "    <tr>\n",
       "      <th>0</th>\n",
       "      <td>0.0</td>\n",
       "      <td>-1.359807</td>\n",
       "      <td>-0.072781</td>\n",
       "      <td>2.536347</td>\n",
       "      <td>1.378155</td>\n",
       "      <td>-0.338321</td>\n",
       "      <td>0.462388</td>\n",
       "      <td>0.239599</td>\n",
       "      <td>0.098698</td>\n",
       "      <td>0.363787</td>\n",
       "      <td>...</td>\n",
       "      <td>-0.018307</td>\n",
       "      <td>0.277838</td>\n",
       "      <td>-0.110474</td>\n",
       "      <td>0.066928</td>\n",
       "      <td>0.128539</td>\n",
       "      <td>-0.189115</td>\n",
       "      <td>0.133558</td>\n",
       "      <td>-0.021053</td>\n",
       "      <td>149.62</td>\n",
       "      <td>0</td>\n",
       "    </tr>\n",
       "    <tr>\n",
       "      <th>1</th>\n",
       "      <td>0.0</td>\n",
       "      <td>1.191857</td>\n",
       "      <td>0.266151</td>\n",
       "      <td>0.166480</td>\n",
       "      <td>0.448154</td>\n",
       "      <td>0.060018</td>\n",
       "      <td>-0.082361</td>\n",
       "      <td>-0.078803</td>\n",
       "      <td>0.085102</td>\n",
       "      <td>-0.255425</td>\n",
       "      <td>...</td>\n",
       "      <td>-0.225775</td>\n",
       "      <td>-0.638672</td>\n",
       "      <td>0.101288</td>\n",
       "      <td>-0.339846</td>\n",
       "      <td>0.167170</td>\n",
       "      <td>0.125895</td>\n",
       "      <td>-0.008983</td>\n",
       "      <td>0.014724</td>\n",
       "      <td>2.69</td>\n",
       "      <td>0</td>\n",
       "    </tr>\n",
       "    <tr>\n",
       "      <th>2</th>\n",
       "      <td>1.0</td>\n",
       "      <td>-1.358354</td>\n",
       "      <td>-1.340163</td>\n",
       "      <td>1.773209</td>\n",
       "      <td>0.379780</td>\n",
       "      <td>-0.503198</td>\n",
       "      <td>1.800499</td>\n",
       "      <td>0.791461</td>\n",
       "      <td>0.247676</td>\n",
       "      <td>-1.514654</td>\n",
       "      <td>...</td>\n",
       "      <td>0.247998</td>\n",
       "      <td>0.771679</td>\n",
       "      <td>0.909412</td>\n",
       "      <td>-0.689281</td>\n",
       "      <td>-0.327642</td>\n",
       "      <td>-0.139097</td>\n",
       "      <td>-0.055353</td>\n",
       "      <td>-0.059752</td>\n",
       "      <td>378.66</td>\n",
       "      <td>0</td>\n",
       "    </tr>\n",
       "    <tr>\n",
       "      <th>3</th>\n",
       "      <td>1.0</td>\n",
       "      <td>-0.966272</td>\n",
       "      <td>-0.185226</td>\n",
       "      <td>1.792993</td>\n",
       "      <td>-0.863291</td>\n",
       "      <td>-0.010309</td>\n",
       "      <td>1.247203</td>\n",
       "      <td>0.237609</td>\n",
       "      <td>0.377436</td>\n",
       "      <td>-1.387024</td>\n",
       "      <td>...</td>\n",
       "      <td>-0.108300</td>\n",
       "      <td>0.005274</td>\n",
       "      <td>-0.190321</td>\n",
       "      <td>-1.175575</td>\n",
       "      <td>0.647376</td>\n",
       "      <td>-0.221929</td>\n",
       "      <td>0.062723</td>\n",
       "      <td>0.061458</td>\n",
       "      <td>123.50</td>\n",
       "      <td>0</td>\n",
       "    </tr>\n",
       "    <tr>\n",
       "      <th>4</th>\n",
       "      <td>2.0</td>\n",
       "      <td>-1.158233</td>\n",
       "      <td>0.877737</td>\n",
       "      <td>1.548718</td>\n",
       "      <td>0.403034</td>\n",
       "      <td>-0.407193</td>\n",
       "      <td>0.095921</td>\n",
       "      <td>0.592941</td>\n",
       "      <td>-0.270533</td>\n",
       "      <td>0.817739</td>\n",
       "      <td>...</td>\n",
       "      <td>-0.009431</td>\n",
       "      <td>0.798278</td>\n",
       "      <td>-0.137458</td>\n",
       "      <td>0.141267</td>\n",
       "      <td>-0.206010</td>\n",
       "      <td>0.502292</td>\n",
       "      <td>0.219422</td>\n",
       "      <td>0.215153</td>\n",
       "      <td>69.99</td>\n",
       "      <td>0</td>\n",
       "    </tr>\n",
       "  </tbody>\n",
       "</table>\n",
       "<p>5 rows × 31 columns</p>\n",
       "</div>"
      ],
      "text/plain": [
       "   Time        V1        V2        V3        V4        V5        V6        V7  \\\n",
       "0   0.0 -1.359807 -0.072781  2.536347  1.378155 -0.338321  0.462388  0.239599   \n",
       "1   0.0  1.191857  0.266151  0.166480  0.448154  0.060018 -0.082361 -0.078803   \n",
       "2   1.0 -1.358354 -1.340163  1.773209  0.379780 -0.503198  1.800499  0.791461   \n",
       "3   1.0 -0.966272 -0.185226  1.792993 -0.863291 -0.010309  1.247203  0.237609   \n",
       "4   2.0 -1.158233  0.877737  1.548718  0.403034 -0.407193  0.095921  0.592941   \n",
       "\n",
       "         V8        V9  ...       V21       V22       V23       V24       V25  \\\n",
       "0  0.098698  0.363787  ... -0.018307  0.277838 -0.110474  0.066928  0.128539   \n",
       "1  0.085102 -0.255425  ... -0.225775 -0.638672  0.101288 -0.339846  0.167170   \n",
       "2  0.247676 -1.514654  ...  0.247998  0.771679  0.909412 -0.689281 -0.327642   \n",
       "3  0.377436 -1.387024  ... -0.108300  0.005274 -0.190321 -1.175575  0.647376   \n",
       "4 -0.270533  0.817739  ... -0.009431  0.798278 -0.137458  0.141267 -0.206010   \n",
       "\n",
       "        V26       V27       V28  Amount  Class  \n",
       "0 -0.189115  0.133558 -0.021053  149.62      0  \n",
       "1  0.125895 -0.008983  0.014724    2.69      0  \n",
       "2 -0.139097 -0.055353 -0.059752  378.66      0  \n",
       "3 -0.221929  0.062723  0.061458  123.50      0  \n",
       "4  0.502292  0.219422  0.215153   69.99      0  \n",
       "\n",
       "[5 rows x 31 columns]"
      ]
     },
     "execution_count": 2,
     "metadata": {},
     "output_type": "execute_result"
    }
   ],
   "source": [
    "df = pd.read_csv(\"/kaggle/input/creditcardfraud/creditcard.csv\")\n",
    "df.head()"
   ]
  },
  {
   "cell_type": "code",
   "execution_count": 3,
   "id": "27b0c2cc",
   "metadata": {
    "execution": {
     "iopub.execute_input": "2023-12-07T17:24:30.353380Z",
     "iopub.status.busy": "2023-12-07T17:24:30.352409Z",
     "iopub.status.idle": "2023-12-07T17:24:30.401769Z",
     "shell.execute_reply": "2023-12-07T17:24:30.400631Z"
    },
    "papermill": {
     "duration": 0.057764,
     "end_time": "2023-12-07T17:24:30.403763",
     "exception": false,
     "start_time": "2023-12-07T17:24:30.345999",
     "status": "completed"
    },
    "tags": []
   },
   "outputs": [
    {
     "name": "stdout",
     "output_type": "stream",
     "text": [
      "<class 'pandas.core.frame.DataFrame'>\n",
      "RangeIndex: 284807 entries, 0 to 284806\n",
      "Data columns (total 31 columns):\n",
      " #   Column  Non-Null Count   Dtype  \n",
      "---  ------  --------------   -----  \n",
      " 0   Time    284807 non-null  float64\n",
      " 1   V1      284807 non-null  float64\n",
      " 2   V2      284807 non-null  float64\n",
      " 3   V3      284807 non-null  float64\n",
      " 4   V4      284807 non-null  float64\n",
      " 5   V5      284807 non-null  float64\n",
      " 6   V6      284807 non-null  float64\n",
      " 7   V7      284807 non-null  float64\n",
      " 8   V8      284807 non-null  float64\n",
      " 9   V9      284807 non-null  float64\n",
      " 10  V10     284807 non-null  float64\n",
      " 11  V11     284807 non-null  float64\n",
      " 12  V12     284807 non-null  float64\n",
      " 13  V13     284807 non-null  float64\n",
      " 14  V14     284807 non-null  float64\n",
      " 15  V15     284807 non-null  float64\n",
      " 16  V16     284807 non-null  float64\n",
      " 17  V17     284807 non-null  float64\n",
      " 18  V18     284807 non-null  float64\n",
      " 19  V19     284807 non-null  float64\n",
      " 20  V20     284807 non-null  float64\n",
      " 21  V21     284807 non-null  float64\n",
      " 22  V22     284807 non-null  float64\n",
      " 23  V23     284807 non-null  float64\n",
      " 24  V24     284807 non-null  float64\n",
      " 25  V25     284807 non-null  float64\n",
      " 26  V26     284807 non-null  float64\n",
      " 27  V27     284807 non-null  float64\n",
      " 28  V28     284807 non-null  float64\n",
      " 29  Amount  284807 non-null  float64\n",
      " 30  Class   284807 non-null  int64  \n",
      "dtypes: float64(30), int64(1)\n",
      "memory usage: 67.4 MB\n"
     ]
    },
    {
     "data": {
      "text/plain": [
       "Time      0\n",
       "V1        0\n",
       "V2        0\n",
       "V3        0\n",
       "V4        0\n",
       "V5        0\n",
       "V6        0\n",
       "V7        0\n",
       "V8        0\n",
       "V9        0\n",
       "V10       0\n",
       "V11       0\n",
       "V12       0\n",
       "V13       0\n",
       "V14       0\n",
       "V15       0\n",
       "V16       0\n",
       "V17       0\n",
       "V18       0\n",
       "V19       0\n",
       "V20       0\n",
       "V21       0\n",
       "V22       0\n",
       "V23       0\n",
       "V24       0\n",
       "V25       0\n",
       "V26       0\n",
       "V27       0\n",
       "V28       0\n",
       "Amount    0\n",
       "Class     0\n",
       "dtype: int64"
      ]
     },
     "execution_count": 3,
     "metadata": {},
     "output_type": "execute_result"
    }
   ],
   "source": [
    "# Checking data types\n",
    "df.info()\n",
    "df.isna().sum()"
   ]
  },
  {
   "cell_type": "markdown",
   "id": "a9262c77",
   "metadata": {
    "papermill": {
     "duration": 0.005225,
     "end_time": "2023-12-07T17:24:30.414653",
     "exception": false,
     "start_time": "2023-12-07T17:24:30.409428",
     "status": "completed"
    },
    "tags": []
   },
   "source": [
    "Great! look like there is no misisng values. "
   ]
  },
  {
   "cell_type": "code",
   "execution_count": 4,
   "id": "21568115",
   "metadata": {
    "execution": {
     "iopub.execute_input": "2023-12-07T17:24:30.427024Z",
     "iopub.status.busy": "2023-12-07T17:24:30.426663Z",
     "iopub.status.idle": "2023-12-07T17:24:30.796775Z",
     "shell.execute_reply": "2023-12-07T17:24:30.795543Z"
    },
    "papermill": {
     "duration": 0.378909,
     "end_time": "2023-12-07T17:24:30.798957",
     "exception": false,
     "start_time": "2023-12-07T17:24:30.420048",
     "status": "completed"
    },
    "tags": []
   },
   "outputs": [
    {
     "data": {
      "text/html": [
       "<div>\n",
       "<style scoped>\n",
       "    .dataframe tbody tr th:only-of-type {\n",
       "        vertical-align: middle;\n",
       "    }\n",
       "\n",
       "    .dataframe tbody tr th {\n",
       "        vertical-align: top;\n",
       "    }\n",
       "\n",
       "    .dataframe thead th {\n",
       "        text-align: right;\n",
       "    }\n",
       "</style>\n",
       "<table border=\"1\" class=\"dataframe\">\n",
       "  <thead>\n",
       "    <tr style=\"text-align: right;\">\n",
       "      <th></th>\n",
       "      <th>Time</th>\n",
       "      <th>V1</th>\n",
       "      <th>V2</th>\n",
       "      <th>V3</th>\n",
       "      <th>V4</th>\n",
       "      <th>V5</th>\n",
       "      <th>V6</th>\n",
       "      <th>V7</th>\n",
       "      <th>V8</th>\n",
       "      <th>V9</th>\n",
       "      <th>...</th>\n",
       "      <th>V21</th>\n",
       "      <th>V22</th>\n",
       "      <th>V23</th>\n",
       "      <th>V24</th>\n",
       "      <th>V25</th>\n",
       "      <th>V26</th>\n",
       "      <th>V27</th>\n",
       "      <th>V28</th>\n",
       "      <th>Amount</th>\n",
       "      <th>Class</th>\n",
       "    </tr>\n",
       "  </thead>\n",
       "  <tbody>\n",
       "    <tr>\n",
       "      <th>count</th>\n",
       "      <td>284807.000000</td>\n",
       "      <td>2.848070e+05</td>\n",
       "      <td>2.848070e+05</td>\n",
       "      <td>2.848070e+05</td>\n",
       "      <td>2.848070e+05</td>\n",
       "      <td>2.848070e+05</td>\n",
       "      <td>2.848070e+05</td>\n",
       "      <td>2.848070e+05</td>\n",
       "      <td>2.848070e+05</td>\n",
       "      <td>2.848070e+05</td>\n",
       "      <td>...</td>\n",
       "      <td>2.848070e+05</td>\n",
       "      <td>2.848070e+05</td>\n",
       "      <td>2.848070e+05</td>\n",
       "      <td>2.848070e+05</td>\n",
       "      <td>2.848070e+05</td>\n",
       "      <td>2.848070e+05</td>\n",
       "      <td>2.848070e+05</td>\n",
       "      <td>2.848070e+05</td>\n",
       "      <td>284807.000000</td>\n",
       "      <td>284807.000000</td>\n",
       "    </tr>\n",
       "    <tr>\n",
       "      <th>mean</th>\n",
       "      <td>94813.859575</td>\n",
       "      <td>1.168375e-15</td>\n",
       "      <td>3.416908e-16</td>\n",
       "      <td>-1.379537e-15</td>\n",
       "      <td>2.074095e-15</td>\n",
       "      <td>9.604066e-16</td>\n",
       "      <td>1.487313e-15</td>\n",
       "      <td>-5.556467e-16</td>\n",
       "      <td>1.213481e-16</td>\n",
       "      <td>-2.406331e-15</td>\n",
       "      <td>...</td>\n",
       "      <td>1.654067e-16</td>\n",
       "      <td>-3.568593e-16</td>\n",
       "      <td>2.578648e-16</td>\n",
       "      <td>4.473266e-15</td>\n",
       "      <td>5.340915e-16</td>\n",
       "      <td>1.683437e-15</td>\n",
       "      <td>-3.660091e-16</td>\n",
       "      <td>-1.227390e-16</td>\n",
       "      <td>88.349619</td>\n",
       "      <td>0.001727</td>\n",
       "    </tr>\n",
       "    <tr>\n",
       "      <th>std</th>\n",
       "      <td>47488.145955</td>\n",
       "      <td>1.958696e+00</td>\n",
       "      <td>1.651309e+00</td>\n",
       "      <td>1.516255e+00</td>\n",
       "      <td>1.415869e+00</td>\n",
       "      <td>1.380247e+00</td>\n",
       "      <td>1.332271e+00</td>\n",
       "      <td>1.237094e+00</td>\n",
       "      <td>1.194353e+00</td>\n",
       "      <td>1.098632e+00</td>\n",
       "      <td>...</td>\n",
       "      <td>7.345240e-01</td>\n",
       "      <td>7.257016e-01</td>\n",
       "      <td>6.244603e-01</td>\n",
       "      <td>6.056471e-01</td>\n",
       "      <td>5.212781e-01</td>\n",
       "      <td>4.822270e-01</td>\n",
       "      <td>4.036325e-01</td>\n",
       "      <td>3.300833e-01</td>\n",
       "      <td>250.120109</td>\n",
       "      <td>0.041527</td>\n",
       "    </tr>\n",
       "    <tr>\n",
       "      <th>min</th>\n",
       "      <td>0.000000</td>\n",
       "      <td>-5.640751e+01</td>\n",
       "      <td>-7.271573e+01</td>\n",
       "      <td>-4.832559e+01</td>\n",
       "      <td>-5.683171e+00</td>\n",
       "      <td>-1.137433e+02</td>\n",
       "      <td>-2.616051e+01</td>\n",
       "      <td>-4.355724e+01</td>\n",
       "      <td>-7.321672e+01</td>\n",
       "      <td>-1.343407e+01</td>\n",
       "      <td>...</td>\n",
       "      <td>-3.483038e+01</td>\n",
       "      <td>-1.093314e+01</td>\n",
       "      <td>-4.480774e+01</td>\n",
       "      <td>-2.836627e+00</td>\n",
       "      <td>-1.029540e+01</td>\n",
       "      <td>-2.604551e+00</td>\n",
       "      <td>-2.256568e+01</td>\n",
       "      <td>-1.543008e+01</td>\n",
       "      <td>0.000000</td>\n",
       "      <td>0.000000</td>\n",
       "    </tr>\n",
       "    <tr>\n",
       "      <th>25%</th>\n",
       "      <td>54201.500000</td>\n",
       "      <td>-9.203734e-01</td>\n",
       "      <td>-5.985499e-01</td>\n",
       "      <td>-8.903648e-01</td>\n",
       "      <td>-8.486401e-01</td>\n",
       "      <td>-6.915971e-01</td>\n",
       "      <td>-7.682956e-01</td>\n",
       "      <td>-5.540759e-01</td>\n",
       "      <td>-2.086297e-01</td>\n",
       "      <td>-6.430976e-01</td>\n",
       "      <td>...</td>\n",
       "      <td>-2.283949e-01</td>\n",
       "      <td>-5.423504e-01</td>\n",
       "      <td>-1.618463e-01</td>\n",
       "      <td>-3.545861e-01</td>\n",
       "      <td>-3.171451e-01</td>\n",
       "      <td>-3.269839e-01</td>\n",
       "      <td>-7.083953e-02</td>\n",
       "      <td>-5.295979e-02</td>\n",
       "      <td>5.600000</td>\n",
       "      <td>0.000000</td>\n",
       "    </tr>\n",
       "    <tr>\n",
       "      <th>50%</th>\n",
       "      <td>84692.000000</td>\n",
       "      <td>1.810880e-02</td>\n",
       "      <td>6.548556e-02</td>\n",
       "      <td>1.798463e-01</td>\n",
       "      <td>-1.984653e-02</td>\n",
       "      <td>-5.433583e-02</td>\n",
       "      <td>-2.741871e-01</td>\n",
       "      <td>4.010308e-02</td>\n",
       "      <td>2.235804e-02</td>\n",
       "      <td>-5.142873e-02</td>\n",
       "      <td>...</td>\n",
       "      <td>-2.945017e-02</td>\n",
       "      <td>6.781943e-03</td>\n",
       "      <td>-1.119293e-02</td>\n",
       "      <td>4.097606e-02</td>\n",
       "      <td>1.659350e-02</td>\n",
       "      <td>-5.213911e-02</td>\n",
       "      <td>1.342146e-03</td>\n",
       "      <td>1.124383e-02</td>\n",
       "      <td>22.000000</td>\n",
       "      <td>0.000000</td>\n",
       "    </tr>\n",
       "    <tr>\n",
       "      <th>75%</th>\n",
       "      <td>139320.500000</td>\n",
       "      <td>1.315642e+00</td>\n",
       "      <td>8.037239e-01</td>\n",
       "      <td>1.027196e+00</td>\n",
       "      <td>7.433413e-01</td>\n",
       "      <td>6.119264e-01</td>\n",
       "      <td>3.985649e-01</td>\n",
       "      <td>5.704361e-01</td>\n",
       "      <td>3.273459e-01</td>\n",
       "      <td>5.971390e-01</td>\n",
       "      <td>...</td>\n",
       "      <td>1.863772e-01</td>\n",
       "      <td>5.285536e-01</td>\n",
       "      <td>1.476421e-01</td>\n",
       "      <td>4.395266e-01</td>\n",
       "      <td>3.507156e-01</td>\n",
       "      <td>2.409522e-01</td>\n",
       "      <td>9.104512e-02</td>\n",
       "      <td>7.827995e-02</td>\n",
       "      <td>77.165000</td>\n",
       "      <td>0.000000</td>\n",
       "    </tr>\n",
       "    <tr>\n",
       "      <th>max</th>\n",
       "      <td>172792.000000</td>\n",
       "      <td>2.454930e+00</td>\n",
       "      <td>2.205773e+01</td>\n",
       "      <td>9.382558e+00</td>\n",
       "      <td>1.687534e+01</td>\n",
       "      <td>3.480167e+01</td>\n",
       "      <td>7.330163e+01</td>\n",
       "      <td>1.205895e+02</td>\n",
       "      <td>2.000721e+01</td>\n",
       "      <td>1.559499e+01</td>\n",
       "      <td>...</td>\n",
       "      <td>2.720284e+01</td>\n",
       "      <td>1.050309e+01</td>\n",
       "      <td>2.252841e+01</td>\n",
       "      <td>4.584549e+00</td>\n",
       "      <td>7.519589e+00</td>\n",
       "      <td>3.517346e+00</td>\n",
       "      <td>3.161220e+01</td>\n",
       "      <td>3.384781e+01</td>\n",
       "      <td>25691.160000</td>\n",
       "      <td>1.000000</td>\n",
       "    </tr>\n",
       "  </tbody>\n",
       "</table>\n",
       "<p>8 rows × 31 columns</p>\n",
       "</div>"
      ],
      "text/plain": [
       "                Time            V1            V2            V3            V4  \\\n",
       "count  284807.000000  2.848070e+05  2.848070e+05  2.848070e+05  2.848070e+05   \n",
       "mean    94813.859575  1.168375e-15  3.416908e-16 -1.379537e-15  2.074095e-15   \n",
       "std     47488.145955  1.958696e+00  1.651309e+00  1.516255e+00  1.415869e+00   \n",
       "min         0.000000 -5.640751e+01 -7.271573e+01 -4.832559e+01 -5.683171e+00   \n",
       "25%     54201.500000 -9.203734e-01 -5.985499e-01 -8.903648e-01 -8.486401e-01   \n",
       "50%     84692.000000  1.810880e-02  6.548556e-02  1.798463e-01 -1.984653e-02   \n",
       "75%    139320.500000  1.315642e+00  8.037239e-01  1.027196e+00  7.433413e-01   \n",
       "max    172792.000000  2.454930e+00  2.205773e+01  9.382558e+00  1.687534e+01   \n",
       "\n",
       "                 V5            V6            V7            V8            V9  \\\n",
       "count  2.848070e+05  2.848070e+05  2.848070e+05  2.848070e+05  2.848070e+05   \n",
       "mean   9.604066e-16  1.487313e-15 -5.556467e-16  1.213481e-16 -2.406331e-15   \n",
       "std    1.380247e+00  1.332271e+00  1.237094e+00  1.194353e+00  1.098632e+00   \n",
       "min   -1.137433e+02 -2.616051e+01 -4.355724e+01 -7.321672e+01 -1.343407e+01   \n",
       "25%   -6.915971e-01 -7.682956e-01 -5.540759e-01 -2.086297e-01 -6.430976e-01   \n",
       "50%   -5.433583e-02 -2.741871e-01  4.010308e-02  2.235804e-02 -5.142873e-02   \n",
       "75%    6.119264e-01  3.985649e-01  5.704361e-01  3.273459e-01  5.971390e-01   \n",
       "max    3.480167e+01  7.330163e+01  1.205895e+02  2.000721e+01  1.559499e+01   \n",
       "\n",
       "       ...           V21           V22           V23           V24  \\\n",
       "count  ...  2.848070e+05  2.848070e+05  2.848070e+05  2.848070e+05   \n",
       "mean   ...  1.654067e-16 -3.568593e-16  2.578648e-16  4.473266e-15   \n",
       "std    ...  7.345240e-01  7.257016e-01  6.244603e-01  6.056471e-01   \n",
       "min    ... -3.483038e+01 -1.093314e+01 -4.480774e+01 -2.836627e+00   \n",
       "25%    ... -2.283949e-01 -5.423504e-01 -1.618463e-01 -3.545861e-01   \n",
       "50%    ... -2.945017e-02  6.781943e-03 -1.119293e-02  4.097606e-02   \n",
       "75%    ...  1.863772e-01  5.285536e-01  1.476421e-01  4.395266e-01   \n",
       "max    ...  2.720284e+01  1.050309e+01  2.252841e+01  4.584549e+00   \n",
       "\n",
       "                V25           V26           V27           V28         Amount  \\\n",
       "count  2.848070e+05  2.848070e+05  2.848070e+05  2.848070e+05  284807.000000   \n",
       "mean   5.340915e-16  1.683437e-15 -3.660091e-16 -1.227390e-16      88.349619   \n",
       "std    5.212781e-01  4.822270e-01  4.036325e-01  3.300833e-01     250.120109   \n",
       "min   -1.029540e+01 -2.604551e+00 -2.256568e+01 -1.543008e+01       0.000000   \n",
       "25%   -3.171451e-01 -3.269839e-01 -7.083953e-02 -5.295979e-02       5.600000   \n",
       "50%    1.659350e-02 -5.213911e-02  1.342146e-03  1.124383e-02      22.000000   \n",
       "75%    3.507156e-01  2.409522e-01  9.104512e-02  7.827995e-02      77.165000   \n",
       "max    7.519589e+00  3.517346e+00  3.161220e+01  3.384781e+01   25691.160000   \n",
       "\n",
       "               Class  \n",
       "count  284807.000000  \n",
       "mean        0.001727  \n",
       "std         0.041527  \n",
       "min         0.000000  \n",
       "25%         0.000000  \n",
       "50%         0.000000  \n",
       "75%         0.000000  \n",
       "max         1.000000  \n",
       "\n",
       "[8 rows x 31 columns]"
      ]
     },
     "execution_count": 4,
     "metadata": {},
     "output_type": "execute_result"
    }
   ],
   "source": [
    "df.describe()"
   ]
  },
  {
   "cell_type": "code",
   "execution_count": 5,
   "id": "132fb525",
   "metadata": {
    "execution": {
     "iopub.execute_input": "2023-12-07T17:24:30.812879Z",
     "iopub.status.busy": "2023-12-07T17:24:30.812553Z",
     "iopub.status.idle": "2023-12-07T17:24:30.820461Z",
     "shell.execute_reply": "2023-12-07T17:24:30.819440Z"
    },
    "papermill": {
     "duration": 0.017106,
     "end_time": "2023-12-07T17:24:30.822380",
     "exception": false,
     "start_time": "2023-12-07T17:24:30.805274",
     "status": "completed"
    },
    "tags": []
   },
   "outputs": [
    {
     "data": {
      "text/plain": [
       "Index(['Time', 'V1', 'V2', 'V3', 'V4', 'V5', 'V6', 'V7', 'V8', 'V9', 'V10',\n",
       "       'V11', 'V12', 'V13', 'V14', 'V15', 'V16', 'V17', 'V18', 'V19', 'V20',\n",
       "       'V21', 'V22', 'V23', 'V24', 'V25', 'V26', 'V27', 'V28', 'Amount',\n",
       "       'Class'],\n",
       "      dtype='object')"
      ]
     },
     "execution_count": 5,
     "metadata": {},
     "output_type": "execute_result"
    }
   ],
   "source": [
    "df.columns"
   ]
  },
  {
   "cell_type": "code",
   "execution_count": 6,
   "id": "96134b26",
   "metadata": {
    "execution": {
     "iopub.execute_input": "2023-12-07T17:24:30.836305Z",
     "iopub.status.busy": "2023-12-07T17:24:30.835935Z",
     "iopub.status.idle": "2023-12-07T17:24:31.053118Z",
     "shell.execute_reply": "2023-12-07T17:24:31.052165Z"
    },
    "papermill": {
     "duration": 0.226455,
     "end_time": "2023-12-07T17:24:31.055199",
     "exception": false,
     "start_time": "2023-12-07T17:24:30.828744",
     "status": "completed"
    },
    "tags": []
   },
   "outputs": [
    {
     "data": {
      "image/png": "[encoded data removed]",
      "text/plain": [
       "<Figure size 640x480 with 1 Axes>"
      ]
     },
     "metadata": {},
     "output_type": "display_data"
    }
   ],
   "source": [
    "# plotting countplot\n",
    "ax = sns.countplot(x=\"Class\", data=df, order=[1, 0])\n",
    "\n",
    "# adding count values on top of the \n",
    "for containers in ax.containers:\n",
    "    ax.bar_label(containers)\n",
    "\n",
    "# changing class names for better understanding\n",
    "class_names = {0: 'Negative Class(Not Fraud)', 1: 'Positive Class(Fraud)'}\n",
    "ax.set_xticklabels([class_names[int(x.get_text())] for x in ax.get_xticklabels()])\n",
    "\n",
    "plt.title(\"Positive Class Vs Negetive Class\", )\n",
    "plt.show()"
   ]
  },
  {
   "cell_type": "markdown",
   "id": "aac55a93",
   "metadata": {
    "papermill": {
     "duration": 0.005987,
     "end_time": "2023-12-07T17:24:31.067726",
     "exception": false,
     "start_time": "2023-12-07T17:24:31.061739",
     "status": "completed"
    },
    "tags": []
   },
   "source": [
    "As it is obvious that the positive class is Minority Class"
   ]
  },
  {
   "cell_type": "markdown",
   "id": "c99f760f",
   "metadata": {
    "papermill": {
     "duration": 0.005945,
     "end_time": "2023-12-07T17:24:31.079924",
     "exception": false,
     "start_time": "2023-12-07T17:24:31.073979",
     "status": "completed"
    },
    "tags": []
   },
   "source": [
    "Only 492 out of *284807* values are the positive class (occurrence of frauds) only **0.172%** of total.  \n",
    "This makes it a Highly Imbalanced Data set. In case of imbalanced dataset we can use following techniques.  \n",
    "\n",
    "1 - **Resampling Techniques**:\n",
    "\n",
    "* Use oversampling techniques like **SMOTE** to create synthetic samples of the minority class (fraudulent transactions) or undersampling the majority class (legitimate transactions) to balance the dataset.\n",
    "* Undersampling the majority class: Removing instances from the majority class to balance the class distribution.\n",
    "\n",
    "2 - **Anomaly Detection Algorithms**:\n",
    "\n",
    "* Treat the problem as an anomaly detection task. Fraudulent transactions are considered anomalies, and methods like isolation forests or one-class SVMs can be effective.\n",
    "\n",
    "3 - **Ensemble Methods**:\n",
    "\n",
    "* Ensemble methods like Random Forest and Gradient Boosting can be effective. They inherently handle imbalanced datasets well and can provide a more robust performance."
   ]
  },
  {
   "cell_type": "markdown",
   "id": "0cd3419d",
   "metadata": {
    "papermill": {
     "duration": 0.005895,
     "end_time": "2023-12-07T17:24:31.091934",
     "exception": false,
     "start_time": "2023-12-07T17:24:31.086039",
     "status": "completed"
    },
    "tags": []
   },
   "source": [
    "### Splitting X and Y"
   ]
  },
  {
   "cell_type": "code",
   "execution_count": 7,
   "id": "b89e4a3e",
   "metadata": {
    "execution": {
     "iopub.execute_input": "2023-12-07T17:24:31.106303Z",
     "iopub.status.busy": "2023-12-07T17:24:31.105395Z",
     "iopub.status.idle": "2023-12-07T17:24:31.122572Z",
     "shell.execute_reply": "2023-12-07T17:24:31.121885Z"
    },
    "papermill": {
     "duration": 0.02642,
     "end_time": "2023-12-07T17:24:31.124495",
     "exception": false,
     "start_time": "2023-12-07T17:24:31.098075",
     "status": "completed"
    },
    "tags": []
   },
   "outputs": [],
   "source": [
    "x = df.drop(\"Class\", axis=1)\n",
    "y = df[\"Class\"]"
   ]
  },
  {
   "cell_type": "markdown",
   "id": "81792233",
   "metadata": {
    "papermill": {
     "duration": 0.005941,
     "end_time": "2023-12-07T17:24:31.136832",
     "exception": false,
     "start_time": "2023-12-07T17:24:31.130891",
     "status": "completed"
    },
    "tags": []
   },
   "source": [
    "### Train Test Split"
   ]
  },
  {
   "cell_type": "code",
   "execution_count": 8,
   "id": "b322270d",
   "metadata": {
    "execution": {
     "iopub.execute_input": "2023-12-07T17:24:31.150847Z",
     "iopub.status.busy": "2023-12-07T17:24:31.150379Z",
     "iopub.status.idle": "2023-12-07T17:24:31.221012Z",
     "shell.execute_reply": "2023-12-07T17:24:31.219589Z"
    },
    "papermill": {
     "duration": 0.08017,
     "end_time": "2023-12-07T17:24:31.223246",
     "exception": false,
     "start_time": "2023-12-07T17:24:31.143076",
     "status": "completed"
    },
    "tags": []
   },
   "outputs": [],
   "source": [
    "X_train, X_test , y_train, y_test = train_test_split(x,y, train_size=0.8, random_state=42)"
   ]
  },
  {
   "cell_type": "markdown",
   "id": "bc18d309",
   "metadata": {
    "papermill": {
     "duration": 0.006013,
     "end_time": "2023-12-07T17:24:31.235846",
     "exception": false,
     "start_time": "2023-12-07T17:24:31.229833",
     "status": "completed"
    },
    "tags": []
   },
   "source": [
    "### Standardizing data"
   ]
  },
  {
   "cell_type": "code",
   "execution_count": 9,
   "id": "7792d278",
   "metadata": {
    "execution": {
     "iopub.execute_input": "2023-12-07T17:24:31.250485Z",
     "iopub.status.busy": "2023-12-07T17:24:31.250127Z",
     "iopub.status.idle": "2023-12-07T17:24:31.312549Z",
     "shell.execute_reply": "2023-12-07T17:24:31.311037Z"
    },
    "papermill": {
     "duration": 0.072685,
     "end_time": "2023-12-07T17:24:31.315018",
     "exception": false,
     "start_time": "2023-12-07T17:24:31.242333",
     "status": "completed"
    },
    "tags": []
   },
   "outputs": [],
   "source": [
    "scaler = StandardScaler()\n",
    "X_train = scaler.fit_transform(X_train)\n",
    "X_test = scaler.transform(X_test)"
   ]
  },
  {
   "cell_type": "markdown",
   "id": "017d8188",
   "metadata": {
    "papermill": {
     "duration": 0.005922,
     "end_time": "2023-12-07T17:24:31.327451",
     "exception": false,
     "start_time": "2023-12-07T17:24:31.321529",
     "status": "completed"
    },
    "tags": []
   },
   "source": [
    "### Appliyng Synthetic Minority Oversampling Technique (SMOTE) "
   ]
  },
  {
   "cell_type": "code",
   "execution_count": 10,
   "id": "9252f6ce",
   "metadata": {
    "execution": {
     "iopub.execute_input": "2023-12-07T17:24:31.341148Z",
     "iopub.status.busy": "2023-12-07T17:24:31.340821Z",
     "iopub.status.idle": "2023-12-07T17:24:31.502681Z",
     "shell.execute_reply": "2023-12-07T17:24:31.501186Z"
    },
    "papermill": {
     "duration": 0.172216,
     "end_time": "2023-12-07T17:24:31.505808",
     "exception": false,
     "start_time": "2023-12-07T17:24:31.333592",
     "status": "completed"
    },
    "tags": []
   },
   "outputs": [],
   "source": [
    "smote = SMOTE(random_state=42)\n",
    "X_train_resam, y_train_resam = smote.fit_resample(X_train, y_train)"
   ]
  },
  {
   "cell_type": "code",
   "execution_count": 11,
   "id": "e1eee124",
   "metadata": {
    "execution": {
     "iopub.execute_input": "2023-12-07T17:24:31.520287Z",
     "iopub.status.busy": "2023-12-07T17:24:31.519902Z",
     "iopub.status.idle": "2023-12-07T17:24:31.701569Z",
     "shell.execute_reply": "2023-12-07T17:24:31.700554Z"
    },
    "papermill": {
     "duration": 0.191228,
     "end_time": "2023-12-07T17:24:31.703691",
     "exception": false,
     "start_time": "2023-12-07T17:24:31.512463",
     "status": "completed"
    },
    "tags": []
   },
   "outputs": [
    {
     "data": {
      "image/png": "[encoded data removed]",
      "text/plain": [
       "<Figure size 640x480 with 1 Axes>"
      ]
     },
     "metadata": {},
     "output_type": "display_data"
    }
   ],
   "source": [
    "# plotting countplot\n",
    "ax = sns.countplot(x=y_train_resam, order=[1, 0])\n",
    "\n",
    "# adding count values on top of the \n",
    "for containers in ax.containers:\n",
    "    ax.bar_label(containers)\n",
    "\n",
    "# changing class names for better understanding\n",
    "class_names = {0: 'Negative Class(Not Fraud)', 1: 'Positive Class(Fraud)'}\n",
    "ax.set_xticklabels([class_names[int(x.get_text())] for x in ax.get_xticklabels()])\n",
    "\n",
    "plt.title(\"Positive Class Vs Negetive Class (After Oversampling)\", )\n",
    "plt.show()"
   ]
  },
  {
   "cell_type": "markdown",
   "id": "b2459f02",
   "metadata": {
    "papermill": {
     "duration": 0.006296,
     "end_time": "2023-12-07T17:24:31.717047",
     "exception": false,
     "start_time": "2023-12-07T17:24:31.710751",
     "status": "completed"
    },
    "tags": []
   },
   "source": [
    "We have successfully oversampled the dataset so that both the classes match"
   ]
  },
  {
   "cell_type": "markdown",
   "id": "aeef0074",
   "metadata": {
    "papermill": {
     "duration": 0.006334,
     "end_time": "2023-12-07T17:24:31.729883",
     "exception": false,
     "start_time": "2023-12-07T17:24:31.723549",
     "status": "completed"
    },
    "tags": []
   },
   "source": [
    "# Building the Model"
   ]
  }
 ],
 "metadata": {
  "kaggle": {
   "accelerator": "none",
   "dataSources": [
    {
     "datasetId": 310,
     "sourceId": 23498,
     "sourceType": "datasetVersion"
    }
   ],
   "dockerImageVersionId": 30587,
   "isGpuEnabled": false,
   "isInternetEnabled": true,
   "language": "python",
   "sourceType": "notebook"
  },
  "kernelspec": {
   "display_name": "Python 3",
   "language": "python",
   "name": "python3"
  },
  "language_info": {
   "codemirror_mode": {
    "name": "ipython",
    "version": 3
   },
   "file_extension": ".py",
   "mimetype": "text/x-python",
   "name": "python",
   "nbconvert_exporter": "python",
   "pygments_lexer": "ipython3",
   "version": "3.10.12"
  },
  "papermill": {
   "default_parameters": {},
   "duration": 11.19074,
   "end_time": "2023-12-07T17:24:32.358014",
   "environment_variables": {},
   "exception": null,
   "input_path": "__notebook__.ipynb",
   "output_path": "__notebook__.ipynb",
   "parameters": {},
   "start_time": "2023-12-07T17:24:21.167274",
   "version": "2.4.0"
  }
 },
 "nbformat": 4,
 "nbformat_minor": 5
}
